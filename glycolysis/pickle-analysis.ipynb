{
 "cells": [
  {
   "cell_type": "code",
   "execution_count": 1,
   "metadata": {},
   "outputs": [
    {
     "name": "stderr",
     "output_type": "stream",
     "text": [
      "WARNING (aesara.configdefaults): g++ not available, if using conda: `conda install m2w64-toolchain`\n",
      "WARNING (aesara.configdefaults): g++ not detected!  Aesara will be unable to compile C-implementations and will default to Python. Performance may be severely degraded. To remove this warning, set Aesara flags cxx to an empty string.\n",
      "WARNING (aesara.tensor.blas): Using NumPy C-API based implementation for BLAS functions.\n"
     ]
    },
    {
     "data": {
      "text/plain": [
       "'c:\\\\Users\\\\user\\\\Documents\\\\research\\\\benchmarking\\\\glycolysis'"
      ]
     },
     "execution_count": 1,
     "metadata": {},
     "output_type": "execute_result"
    }
   ],
   "source": [
    "import sys\n",
    "\n",
    "import numpy as np\n",
    "np.random.seed(0)\n",
    "np.set_printoptions(threshold=sys.maxsize)\n",
    "\n",
    "import pandas as pd\n",
    "pd.set_option('display.max_columns', None)\n",
    "pd.set_option('display.max_rows', None)\n",
    "\n",
    "import scipy\n",
    "import scipy.stats\n",
    "\n",
    "import cobra\n",
    "from tqdm import tqdm\n",
    "\n",
    "import matplotlib.pyplot as plt\n",
    "import seaborn as sns\n",
    "sns.set(context='talk', style='ticks',\n",
    "        color_codes=True, rc={'legend.frameon': False})\n",
    "import arviz as az\n",
    "\n",
    "from csv import writer\n",
    "import emll\n",
    "\n",
    "import cloudpickle\n",
    "import os\n",
    "os.getcwd()"
   ]
  },
  {
   "cell_type": "code",
   "execution_count": 2,
   "metadata": {},
   "outputs": [],
   "source": [
    "os.chdir('results')"
   ]
  },
  {
   "cell_type": "code",
   "execution_count": 3,
   "metadata": {},
   "outputs": [
    {
     "ename": "EOFError",
     "evalue": "Ran out of input",
     "output_type": "error",
     "traceback": [
      "\u001b[1;31m---------------------------------------------------------------------------\u001b[0m",
      "\u001b[1;31mEOFError\u001b[0m                                  Traceback (most recent call last)",
      "\u001b[1;32mc:\\Users\\user\\Documents\\research\\benchmarking\\glycolysis\\pickle-analysis.ipynb Cell 3\u001b[0m in \u001b[0;36m4\n\u001b[0;32m      <a href='vscode-notebook-cell:/c%3A/Users/user/Documents/research/benchmarking/glycolysis/pickle-analysis.ipynb#W2sZmlsZQ%3D%3D?line=0'>1</a>\u001b[0m run_name \u001b[39m=\u001b[39m \u001b[39m'\u001b[39m\u001b[39m20230704_glycolysis_A_advi\u001b[39m\u001b[39m'\u001b[39m\n\u001b[0;32m      <a href='vscode-notebook-cell:/c%3A/Users/user/Documents/research/benchmarking/glycolysis/pickle-analysis.ipynb#W2sZmlsZQ%3D%3D?line=2'>3</a>\u001b[0m \u001b[39mwith\u001b[39;00m \u001b[39mopen\u001b[39m(run_name \u001b[39m+\u001b[39m \u001b[39m'\u001b[39m\u001b[39m.pgz\u001b[39m\u001b[39m'\u001b[39m, \u001b[39m\"\u001b[39m\u001b[39mrb\u001b[39m\u001b[39m\"\u001b[39m) \u001b[39mas\u001b[39;00m f:\n\u001b[1;32m----> <a href='vscode-notebook-cell:/c%3A/Users/user/Documents/research/benchmarking/glycolysis/pickle-analysis.ipynb#W2sZmlsZQ%3D%3D?line=3'>4</a>\u001b[0m     pickle_jar \u001b[39m=\u001b[39m cloudpickle\u001b[39m.\u001b[39;49mload(f)\n",
      "\u001b[1;31mEOFError\u001b[0m: Ran out of input"
     ]
    }
   ],
   "source": [
    "run_name = '20230704_glycolysis_A_advi'\n",
    "\n",
    "with open(run_name + '.pgz', \"rb\") as f:\n",
    "    pickle_jar = cloudpickle.load(f)\n",
    "\n",
    "#pickle_jar"
   ]
  },
  {
   "cell_type": "raw",
   "metadata": {},
   "source": [
    "approx = pickle_jar['approx']\n",
    "with sns.plotting_context('notebook', font_scale=1.2):\n",
    "\n",
    "    fig = plt.figure(figsize=(5,4),dpi=100)\n",
    "    plt.plot(approx.hist + 30, '.', rasterized=True, ms=1)\n",
    "    plt.yscale(\"log\")\n",
    "    # plt.ylim([1E2, 1E7])\n",
    "    plt.xlim([0, 60000])\n",
    "    sns.despine(trim=True, offset=10)\n",
    "\n",
    "    plt.ylabel('-ELBO')\n",
    "    plt.xlabel('Iteration')\n",
    "    plt.title(f'{run_name} ELBO convergence')\n",
    "    # plt.tight_layout()\n",
    "    #plt.savefig(f'{name_of_script}_elbo.svg', transparent=True, dpi=200)"
   ]
  },
  {
   "cell_type": "code",
   "execution_count": 7,
   "metadata": {},
   "outputs": [],
   "source": [
    "def ADVI_elasticities(pickle_jar):\n",
    "    trace = pickle_jar['trace']\n",
    "    e_labels = pickle_jar['e_labels']\n",
    "\n",
    "    postEx = np.squeeze(trace['posterior']['Ex'].to_numpy()) # (1000, 91, 80)\n",
    "    postEy = np.squeeze(trace['posterior']['Ey'].to_numpy()) # (1000, 91, 14)\n",
    "\n",
    "    Ex_hdi = az.hdi(trace['posterior']['Ex'])['Ex'].to_numpy() #(91, 80, 2)\n",
    "    Ey_hdi = az.hdi(trace['posterior']['Ey'])['Ey'].to_numpy() #(91, 14, 2)\n",
    "    ex_vi = Ex_hdi.reshape((Ex_hdi.shape[0]*Ex_hdi.shape[1],-1))\n",
    "    ey_vi = Ey_hdi.reshape((Ey_hdi.shape[0]*Ey_hdi.shape[1],-1))\n",
    "    e_all_vi = np.transpose(np.vstack([ex_vi, ey_vi]))\n",
    "    e_df_vi = pd.DataFrame(e_all_vi, columns=e_labels)\n",
    "    # e_df_vi.to_csv(f'{run_name}_predicted_elasticities.csv')\n",
    "\n",
    "    a = postEx.reshape((-1, postEx.shape[1]*postEx.shape[2]))\n",
    "    b = postEy.reshape((-1, postEy.shape[1]*postEy.shape[2]))\n",
    "    c = np.hstack([a, b])\n",
    "\n",
    "    medians = pd.DataFrame(c, columns=e_labels).median().to_numpy()\n",
    "\n",
    "    #with open(f'{run_name}_predicted_elasticities.csv', 'a', newline='') as f:\n",
    "    #    writer(f).writerow(['median'] + list(medians))\n",
    "    #    f.close()\n",
    "    \n",
    "    return medians"
   ]
  },
  {
   "cell_type": "code",
   "execution_count": 46,
   "metadata": {},
   "outputs": [],
   "source": [
    "def ADVI_CCs_hdi(pickle_jar, medians, cc_type, run_name):\n",
    "    \"\"\"\n",
    "    Ex_hdi is the hdi of the posterior Ex trace as a numpy array\n",
    "    \"\"\"\n",
    "    trace = pickle_jar['trace']\n",
    "    trace_prior = pickle_jar['trace_prior']\n",
    "    ll = pickle_jar['ll']\n",
    "    m_labels = pickle_jar['m_labels']\n",
    "    r_labels = pickle_jar['r_labels']\n",
    "    y_labels = ['co2_c', 'glc__D_c', 'h2o_c', 'h_c', 'nh4_c', 'o2_c', 'pi_c', 'pyr_c', 'succ_c', '4aPhe_c', '4acinna_c', '4aba_c', 'tCA_c', 'pHCA_c']\n",
    "\n",
    "    Ex_hdi = az.hdi(trace['posterior']['Ex'])['Ex'].to_numpy() #(13, 8, 2)\n",
    "    Ey_hdi = az.hdi(trace['posterior']['Ey'])['Ey'].to_numpy() #(13, 2, 2)\n",
    "\n",
    "    priorEx_hdi = az.hdi(trace_prior['prior']['Ex'])['Ex'].to_numpy() #(13, 8, 2)Ex_hdi = az.hdi(trace['posterior']['Ex'])['Ex'].to_numpy() #(13, 8, 2)\n",
    "    \n",
    "    a = np.transpose(Ex_hdi,(2, 0, 1))\n",
    "    b = np.transpose(priorEx_hdi,(2, 0, 1))\n",
    "\n",
    "    medians = medians.reshape((1, len(r_labels),-1))\n",
    "\n",
    "    if cc_type=='mcc':\n",
    "        cc_mb = np.array([ll.metabolite_control_coefficient(Ex=ex) for ex in a])   \n",
    "        cc_prior = np.array([ll.metabolite_control_coefficient(Ex=ex) for ex in b]) \n",
    "        medians = np.array([ll.metabolite_control_coefficient(Ex=ex) for ex in medians])\n",
    "        hdi_upper = pd.DataFrame(cc_mb[0], index=m_labels, columns=r_labels).rename_axis(('Reactions'))\n",
    "        hdi_lower = pd.DataFrame(cc_mb[1], index=m_labels, columns=r_labels).rename_axis(('Reactions'))\n",
    "        cc_hdi = pd.concat({'upper': hdi_upper, 'lower': hdi_lower}, names=['hdi']).swaplevel()\n",
    "        cc_hdi =pd.pivot_table(cc_hdi, index=['Reactions', 'hdi'])\n",
    "        cc_index = m_labels+y_labels\n",
    "\n",
    "    elif cc_type=='fcc':\n",
    "        cc_mb = np.array([ll.flux_control_coefficient(Ex=ex) for ex in a])   \n",
    "        cc_prior = np.array([ll.flux_control_coefficient(Ex=ex) for ex in b]) \n",
    "        medians = np.array([ll.flux_control_coefficient(Ex=ex) for ex in medians]) \n",
    "        hdi_upper = pd.DataFrame(cc_mb[0], index=r_labels, columns=r_labels).rename_axis(('Reactions'))\n",
    "        hdi_lower = pd.DataFrame(cc_mb[1], index=r_labels, columns=r_labels).rename_axis(('Reactions'))\n",
    "        cc_hdi = pd.concat({'upper': hdi_upper, 'lower': hdi_lower}, names=['hdi']).swaplevel()\n",
    "        cc_hdi =pd.pivot_table(cc_hdi, index=['Reactions', 'hdi'])\n",
    "        cc_index = r_labels\n",
    "\n",
    "    else: \n",
    "        raise Exception(\"cc_type must either be 'mcc' or 'fcc'\")\n",
    "    \n",
    "    cc_hdi.to_csv(run_name + f'_{cc_type.upper()}s_hdi.csv')\n",
    "\n",
    "    medians = pd.DataFrame(np.squeeze(medians), index=cc_index, columns=r_labels)\n",
    "    medians.to_csv(run_name + f'_{cc_type.upper()}s_medians.csv')\n",
    "    \n",
    "    #return cc_df\n"
   ]
  },
  {
   "cell_type": "code",
   "execution_count": 9,
   "metadata": {},
   "outputs": [],
   "source": [
    "def plot_CC_distbs(cc_df, cc_type, results_dir, dataset_name):\n",
    "    \n",
    "    fig = plt.figure(figsize=(16, 8))\n",
    "\n",
    "    my_pal = {\"Prior\": \".8\", \"ADVI\":\"b\"}\n",
    "\n",
    "    ax = fig.add_subplot(111)\n",
    "    ax2 = fig.add_subplot(111, frameon=False, sharex=ax, sharey=ax)\n",
    "\n",
    "    sns.violinplot(\n",
    "        x='Reactions', y=cc_type, hue='Type', data=cc_df[cc_df.Type == 'Prior'],\n",
    "        scale='width', width=0.5, legend=False, zorder=0,\n",
    "        color='1.', ax=ax, saturation=1., alpha=0.01)\n",
    "\n",
    "    plt.setp(ax.lines, color='.8')\n",
    "    plt.setp(ax.collections, alpha=.5, label=\"\")\n",
    "\n",
    "    sns.violinplot(\n",
    "        x='Reactions', y=cc_type, hue='Type', data=cc_df,\n",
    "        scale='width', width=0.8, hue_order=['ADVI'],\n",
    "        legend=False, palette=my_pal, zorder=3, ax=ax2)\n",
    "\n",
    "    phandles, plabels = ax.get_legend_handles_labels()\n",
    "    handles, labels = ax2.get_legend_handles_labels()\n",
    "    ax.set(xlabel=None)\n",
    "    ax.legend().remove()\n",
    "    ax2.legend().remove()\n",
    "    ax.xaxis.set_tick_params(labelbottom=False)\n",
    "    ax2.tick_params(axis='x', labelsize=8, rotation=90)\n",
    "    \n",
    "    ax2.legend(phandles + handles, plabels + labels, loc='upper center', ncol=4, fontsize=13)\n",
    "    ax.set_ylim([-1.5, 1.5])\n",
    "\n",
    "    ax.axhline(0, ls='--', color='.7', zorder=0)\n",
    "    sns.despine(trim=True)\n",
    "\n",
    "    plt.suptitle(dataset_name + f' Predicted {cc_type.upper()}s: 4ACA', y=1)\n",
    "\n",
    "    fig.savefig(results_dir + f'{dataset_name}-plotted_{cc_type}s.svg', transparent=True)\n"
   ]
  },
  {
   "cell_type": "code",
   "execution_count": 49,
   "metadata": {},
   "outputs": [],
   "source": [
    "# medians = ADVI_elasticities(pickle_jar)\n",
    "#mcc_df = ADVI_CCs_hdi(pickle_jar, medians, 'mcc', run_name)\n",
    "#plot_CC_distbs(mcc_df, 'mcc', '', run_name)\n",
    "fcc_df = ADVI_CCs_hdi(pickle_jar, medians, 'fcc', run_name) # results_dir=f'{run_name}_FCCs.csv')\n",
    "#plot_CC_distbs(fcc_df, 'fcc', '', run_name)"
   ]
  },
  {
   "cell_type": "code",
   "execution_count": 9,
   "metadata": {},
   "outputs": [],
   "source": [
    "# trace['posterior'].keys()\n",
    "trace = pickle_jar['trace']\n",
    "trace_prior = pickle_jar['trace_prior']\n",
    "ll = pickle_jar['ll']\n",
    "m_labels = pickle_jar['m_labels']\n",
    "r_labels = pickle_jar['r_labels']\n",
    "y_labels = ['co2_c', 'glc__D_c', 'h2o_c', 'h_c', 'nh4_c', 'o2_c', 'pi_c', 'pyr_c', 'succ_c', '4aPhe_c', '4acinna_c', '4aba_c', 'tCA_c', 'pHCA_c']\n",
    "\n",
    "Ex_values = np.squeeze(trace['posterior']['Ex'].values) #np array\n",
    "Ey_values = np.squeeze(trace['posterior']['Ey'].values)\n",
    "vn_ss = np.squeeze(trace['posterior']['vn_ss'].values[0, :,0,:])\n",
    "\n",
    "xn, vn = ll.steady_state_mat()"
   ]
  },
  {
   "cell_type": "code",
   "execution_count": 25,
   "metadata": {},
   "outputs": [
    {
     "name": "stderr",
     "output_type": "stream",
     "text": [
      "C:\\Users\\user\\AppData\\Local\\Temp\\ipykernel_13412\\1035012421.py:3: FutureWarning: Unlike other reduction functions (e.g. `skew`, `kurtosis`), the default behavior of `mode` typically preserves the axis it acts along. In SciPy 1.11.0, this behavior will change: the default value of `keepdims` will become False, the `axis` over which the statistic is taken will be eliminated, and the value None will no longer be accepted. Set `keepdims` to True or False to avoid this warning.\n",
      "  modes, counts = stats.mode(Ex_values)\n"
     ]
    }
   ],
   "source": [
    "Ex_values.shape\n",
    "from scipy import stats\n",
    "modes, counts = stats.mode(Ex_values)\n",
    "#np.squeeze(modes).shape\n",
    "np.savetxt(\"median_Ex_May15_core66_y-err_120.csv\", np.squeeze(modes), delimiter=\",\")\n"
   ]
  },
  {
   "cell_type": "code",
   "execution_count": 30,
   "metadata": {},
   "outputs": [],
   "source": [
    "import tellurium as te\n",
    "r = te.loads('../../pp_4aca_Ex66.xml')\n",
    "link_mtx = r.getLinkMatrix()\n",
    "reduced_mtx = r.getReducedStoichiometryMatrix()"
   ]
  },
  {
   "cell_type": "code",
   "execution_count": 114,
   "metadata": {},
   "outputs": [],
   "source": [
    "def calculate_FCCs_link(Ex, v):\n",
    "    A = np.matmul(reduced_mtx, Ex)\n",
    "    A = np.matmul(A, link_mtx)\n",
    "    B = np.linalg.inv(A)\n",
    "    C = np.matmul(-link_mtx, B)\n",
    "    C = np.matmul(C, reduced_mtx)\n",
    "    unscaled = np.matmul(Ex, C) + np.identity(len(v))\n",
    "    v[v == 0] = 1E-6\n",
    "    D = np.diag (np.reciprocal(v))\n",
    "    E = np.matmul(D, unscaled)\n",
    "    return np.matmul(E, np.diag(v))\n"
   ]
  },
  {
   "cell_type": "code",
   "execution_count": 122,
   "metadata": {},
   "outputs": [
    {
     "name": "stdout",
     "output_type": "stream",
     "text": [
      "calculated fcc = \n",
      " [[ 0.5, 0.5],\n",
      "  [ 0.5, 0.5]]\n",
      "\n",
      "         _J0,   _J1\n",
      "_J0 [[ 0.625, 0.375],\n",
      "_J1  [ 0.625, 0.375]]\n",
      "\n"
     ]
    }
   ],
   "source": [
    "import tellurium as te\n",
    "import roadrunner\n",
    "import numpy as np\n",
    "import scipy\n",
    "r = te.loada(\"\"\"\n",
    "     A -> B; k1*A\n",
    "     B -> A; k2*B\n",
    "     A = 10\n",
    "     k1 = 0.3; k2 = 0.5\n",
    "\"\"\")\n",
    "def calculate_FCCs_link(Ex, v):\n",
    "    A = np.matmul(reduced_mtx, Ex)\n",
    "    A = np.matmul(A, link_mtx)\n",
    "    M = np.linalg.inv(A)\n",
    "    C = np.matmul(-link_mtx, M)\n",
    "    C = np.matmul(C, reduced_mtx)\n",
    "    unscaled = np.matmul(Ex, C) + np.identity(len (v))\n",
    "    D = np.diag (np.reciprocal(v))\n",
    "    E = np.matmul(D, unscaled)\n",
    "    return np.matmul(E, np.diag(v))\n",
    "r.conservedMoietyAnalysis = True\n",
    "r.steadyState()\n",
    "link_mtx = r.getLinkMatrix()\n",
    "reduced_mtx = r.getReducedStoichiometryMatrix()\n",
    "k = calculate_FCCs_link(r.getScaledElasticityMatrix(), r.getReactionRates())\n",
    "print (\"calculated fcc = \")\n",
    "print (k)\n",
    "print (r.getScaledFluxControlCoefficientMatrix())"
   ]
  },
  {
   "cell_type": "code",
   "execution_count": 115,
   "metadata": {},
   "outputs": [],
   "source": [
    "link_mtx = r.getLinkMatrix()\n",
    "reduced_mtx = r.getReducedStoichiometryMatrix()\n",
    "k = calculate_FCCs_link(r.getUnscaledElasticityMatrix(), r.getReactionRates())"
   ]
  },
  {
   "cell_type": "code",
   "execution_count": 116,
   "metadata": {},
   "outputs": [
    {
     "name": "stdout",
     "output_type": "stream",
     "text": [
      "0.562895950269223\n",
      "0.5628959502692228\n",
      "1.2814479751346088\n",
      "1.2814479751346124\n",
      "1.2814479751346097\n",
      "1.2814479751346126\n"
     ]
    }
   ],
   "source": [
    "for row in k: \n",
    "    print(np.sum(row))"
   ]
  },
  {
   "cell_type": "code",
   "execution_count": 83,
   "metadata": {},
   "outputs": [],
   "source": [
    "fccs = np.array([calculate_FCCs_link(Ex=Ex_values[i], v=vn) for i in range(len(Ex_values))])"
   ]
  },
  {
   "cell_type": "code",
   "execution_count": 93,
   "metadata": {},
   "outputs": [],
   "source": [
    "fcc_df = pd.DataFrame(fccs[0], columns=r_labels, index=r_labels)\n",
    "# fcc_df"
   ]
  },
  {
   "cell_type": "code",
   "execution_count": 101,
   "metadata": {},
   "outputs": [
    {
     "data": {
      "text/plain": [
       "87.86820499904613"
      ]
     },
     "execution_count": 101,
     "metadata": {},
     "output_type": "execute_result"
    }
   ],
   "source": [
    "np.sum(fccs[462])"
   ]
  },
  {
   "cell_type": "code",
   "execution_count": 100,
   "metadata": {},
   "outputs": [
    {
     "name": "stdout",
     "output_type": "stream",
     "text": [
      "462\n"
     ]
    }
   ],
   "source": [
    "for i, mtx in enumerate(fccs):\n",
    "    if np.sum(mtx) < 90 and np.sum(mtx) > 80:\n",
    "        print(i)"
   ]
  },
  {
   "cell_type": "code",
   "execution_count": 103,
   "metadata": {},
   "outputs": [
    {
     "name": "stdout",
     "output_type": "stream",
     "text": [
      "0.5361050418501134\n",
      "10.526265617121703\n",
      "0.8206234455385509\n",
      "-0.022635334310212623\n",
      "6.6038074903284665\n",
      "2.700411727492854\n",
      "-26.15178224828041\n",
      "-0.060552397787127774\n",
      "-5.093725457478032\n",
      "-0.5739448350309603\n",
      "-0.5739448350311812\n",
      "-0.5739448350311475\n",
      "4.906965370203453\n",
      "18.951116709650073\n",
      "2.4674196899255927\n",
      "1.6861854302780348\n",
      "2.3138145697219197\n",
      "1.668749608334244\n",
      "1.7521561696731194\n",
      "2.467419689925663\n",
      "1.8658191480369652\n",
      "1.0229741172392934\n",
      "78.17697855246814\n",
      "13.87463557780231\n",
      "2.333078909943858\n",
      "2.0655787161252914\n",
      "2.7806730937509894\n",
      "-5.373794655723543\n",
      "0.7139884515880801\n",
      "1.8415721454268958\n",
      "3.500130020807135\n",
      "4.4337099818819725\n",
      "2.080740687990269\n",
      "-8.686036024320494\n",
      "2.3312503916657774\n",
      "0.7139884515880338\n",
      "2.29224743441617\n",
      "1.597543917254053\n",
      "0.7016842212784815\n",
      "2.91115556449806\n",
      "-0.09092898598183473\n",
      "4.090928985982312\n",
      "-0.09092898598203113\n",
      "63.12296239538568\n",
      "2.3138145697219534\n",
      "4.477232535986443\n",
      "1.6518822483979254\n",
      "1.7521561696731165\n",
      "4.47723253598648\n",
      "-0.7372041655409215\n",
      "18.951116709649888\n",
      "-3.199456166682563\n",
      "18.951116709651828\n",
      "18.951116709647902\n",
      "18.951116709650464\n",
      "18.951116709650513\n",
      "9.161798218498804\n",
      "-52.62786813608471\n",
      "-52.62786813607407\n",
      "56.6278681360723\n",
      "65.32266087034314\n",
      "1.2297296952260137\n",
      "2.678845901447202\n",
      "-5.467685655333912\n",
      "1.806409783135129\n",
      "1.8064097831350174\n",
      "3.3015423422640504\n",
      "1.1087604099175978\n",
      "0.9999999999999842\n",
      "-3.225186623017624\n",
      "0.36123308197321613\n",
      "1.000000000000034\n",
      "2.1341808519630345\n",
      "4.727340743350896\n",
      "2.0298891363741562\n",
      "96.24618891717228\n",
      "-2.3604480553052305\n",
      "0.5361050418501034\n",
      "-0.2778091614717369\n",
      "0.7801958968658766\n",
      "1.9871677991806727\n",
      "0.9453630552327369\n",
      "1.0000000000000058\n",
      "1.5947222795975242\n",
      "-360.9830451832762\n"
     ]
    }
   ],
   "source": [
    "g = fccs[462]\n",
    "for i in range(len(g)):\n",
    "    print(np.sum(g[i,:]))"
   ]
  },
  {
   "cell_type": "code",
   "execution_count": null,
   "metadata": {},
   "outputs": [],
   "source": []
  },
  {
   "cell_type": "code",
   "execution_count": 35,
   "metadata": {},
   "outputs": [
    {
     "name": "stdout",
     "output_type": "stream",
     "text": [
      "               J1,         J2,         J3,           J4,        J5,           J6\n",
      "J1 [[  0.00117683,   0.390511,  0.0218827,     0.316765,   0.58643,     0.291548],\n",
      "J2  [  0.00117683,   0.390511,  0.0218827,     0.316765,   0.58643,     0.291548],\n",
      "J3  [ 4.45563e-06, 0.00147852,  0.0359195, -0.000772227,  0.962598, -0.000710751],\n",
      "J4  [  0.00117238,   0.389032, -0.0140368,     0.317537, -0.376168,     0.292258],\n",
      "J5  [ 4.45563e-06, 0.00147852,  0.0359195, -0.000772227,  0.962598, -0.000710751],\n",
      "J6  [  0.00117238,   0.389032, -0.0140368,     0.317537, -0.376168,     0.292258]]\n",
      "\n",
      "               J1,        J2,         J3,         J4,        J5,         J6\n",
      "s1 [[     1.82488, -0.713474, -0.0399803,  -0.578738,  -1.07142,  -0.532665],\n",
      "s2  [  0.00340705,   1.13057, -0.0407923,  -0.590492,  -1.09318,  -0.543484],\n",
      "s3  [ 0.000139276, 0.0462162,    1.12278, -0.0241385,  -1.16914, -0.0222169],\n",
      "s4  [  0.00193552,  0.642266, -0.0231737,   0.524232, -0.621028,   -1.16843]]\n",
      "\n"
     ]
    }
   ],
   "source": [
    "import tellurium as te\n",
    "import roadrunner\n",
    "import numpy as np\n",
    "from scipy import linalg\n",
    "r = te.loada(\"\"\"\n",
    "J1: -> s1; e1 * (k1-k2*s1)\n",
    "J2: s1 -> s2; e2 * (k3*s1-k4*s2)\n",
    "J3: s2 -> s3; e3 * (k5*s2-k6*s3)\n",
    "J4: s2 -> s4; e4 * (k7*s2-k8*s4)\n",
    "J5: s3 -> ; e5 * (k9*s3)\n",
    "J6: s4 -> ; e6 * (k11*s4)\n",
    "\n",
    "e1 = 1; e2 = 1; e3 = 1; e4 = 1; e5 = 1; e6 = 1;\n",
    "k1 = 0.90151298; k2 = 0.5473373; k3 = 0.00164944; k4 = 0.53805831; k5 = 0.03635434; k6 = 0.85733177; \n",
    "k7 = 0.66081262; k8 = 0.55749815; k9 = 0.03199145; k11 = 0.6057181;\n",
    "s1 = 0.2; s2 = 0.2; s3 = 0.4; s4 = 0.2;\n",
    "\n",
    "\"\"\")\n",
    "r.steadyState()\n",
    "print (r.getUnscaledFluxControlCoefficientMatrix())\n",
    "print (r.getUnscaledConcentrationControlCoefficientMatrix())"
   ]
  },
  {
   "cell_type": "code",
   "execution_count": 7,
   "metadata": {},
   "outputs": [
    {
     "data": {
      "text/plain": [
       "(6,)"
      ]
     },
     "execution_count": 7,
     "metadata": {},
     "output_type": "execute_result"
    }
   ],
   "source": [
    "r.getReactionRates().shape"
   ]
  },
  {
   "cell_type": "code",
   "execution_count": 43,
   "metadata": {},
   "outputs": [
    {
     "data": {
      "text/plain": [
       "1.6083123206182073"
      ]
     },
     "execution_count": 43,
     "metadata": {},
     "output_type": "execute_result"
    }
   ],
   "source": [
    "np.sum(r.getUnscaledFluxControlCoefficientMatrix()[0])"
   ]
  },
  {
   "cell_type": "code",
   "execution_count": 87,
   "metadata": {},
   "outputs": [
    {
     "name": "stdout",
     "output_type": "stream",
     "text": [
      "0.9999999999999739\n",
      "1.0\n",
      "1.0000000000000029\n",
      "1.0\n",
      "1.0\n",
      "0.9999999999999999\n"
     ]
    }
   ],
   "source": [
    "h = r.getScaledFluxControlCoefficientMatrix()\n",
    "\n",
    "for i in range(h.shape[0]):\n",
    "    print(np.sum(h[i, :]))\n"
   ]
  },
  {
   "cell_type": "code",
   "execution_count": null,
   "metadata": {},
   "outputs": [],
   "source": []
  },
  {
   "cell_type": "code",
   "execution_count": null,
   "metadata": {},
   "outputs": [],
   "source": []
  },
  {
   "cell_type": "code",
   "execution_count": null,
   "metadata": {},
   "outputs": [],
   "source": []
  },
  {
   "cell_type": "code",
   "execution_count": null,
   "metadata": {},
   "outputs": [],
   "source": []
  },
  {
   "cell_type": "code",
   "execution_count": null,
   "metadata": {},
   "outputs": [],
   "source": []
  },
  {
   "cell_type": "code",
   "execution_count": null,
   "metadata": {},
   "outputs": [],
   "source": []
  },
  {
   "cell_type": "code",
   "execution_count": null,
   "metadata": {},
   "outputs": [],
   "source": []
  },
  {
   "cell_type": "code",
   "execution_count": null,
   "metadata": {},
   "outputs": [],
   "source": []
  },
  {
   "cell_type": "code",
   "execution_count": null,
   "metadata": {},
   "outputs": [],
   "source": []
  },
  {
   "cell_type": "code",
   "execution_count": null,
   "metadata": {},
   "outputs": [],
   "source": []
  },
  {
   "cell_type": "code",
   "execution_count": null,
   "metadata": {},
   "outputs": [],
   "source": [
    "ll_link = emll.LinLogLinkMatrix(ll.N, ll.Ex, ll.Ey, ll.v_star)\n",
    "fccs_link = np.array([ll_link.flux_control_coefficient(Ex=ex) for ex in Ex_values])"
   ]
  },
  {
   "cell_type": "code",
   "execution_count": 7,
   "metadata": {},
   "outputs": [
    {
     "name": "stderr",
     "output_type": "stream",
     "text": [
      "100%|██████████| 1000/1000 [00:02<00:00, 368.31it/s]\n"
     ]
    }
   ],
   "source": [
    "fccs = np.array([ll.flux_control_coefficient(Ex=ex) for ex in tqdm(Ex_values)])"
   ]
  },
  {
   "cell_type": "code",
   "execution_count": 8,
   "metadata": {},
   "outputs": [],
   "source": [
    "r_med = np.median(fccs, 0).flatten()\n",
    "l_med = np.median(fccs_link, 0).flatten()\n",
    "r_err = [r_med - np.percentile(fccs, 25, axis=0).flatten(),\n",
    "         np.percentile(fccs, 75, axis=0).flatten() - r_med]\n",
    "l_err = [l_med - np.percentile(fccs_link, 25, axis=0).flatten(),\n",
    "         np.percentile(fccs_link, 75, axis=0).flatten() - l_med]"
   ]
  },
  {
   "cell_type": "code",
   "execution_count": 9,
   "metadata": {},
   "outputs": [
    {
     "data": {
      "text/plain": [
       "Text(1, -1, '$\\\\rho = 0.96$')"
      ]
     },
     "execution_count": 9,
     "metadata": {},
     "output_type": "execute_result"
    },
    {
     "data": {
      "image/png": "[encoded data removed]",
      "text/plain": [
       "<Figure size 500x400 with 1 Axes>"
      ]
     },
     "metadata": {},
     "output_type": "display_data"
    }
   ],
   "source": [
    "fig = plt.figure(figsize=(5,4))\n",
    "ax = fig.add_subplot(111, aspect='equal', adjustable='box')\n",
    "\n",
    "ax.set_aspect('equal')\n",
    "ax.errorbar(r_med, l_med, ms=5, lw=0, xerr=r_err, yerr=l_err,\n",
    "            marker='.', color='.4', zorder=3, alpha=0.5)\n",
    "ax.errorbar(r_med, l_med, ms=5, lw=0, xerr=r_err, yerr=l_err,\n",
    "            elinewidth=.5, color='.8', alpha=0.5, zorder=2)\n",
    "\n",
    "ax.plot([-5, 5], [-5, 5], '--', color='.8', zorder=0)\n",
    "\n",
    "ax.set_xlabel('FCC (Pseudoinverse)')\n",
    "ax.set_ylabel('FCC (Link Matrix)')\n",
    "\n",
    "ax.set_rasterization_zorder(4)\n",
    "\n",
    "ax.set_xlim([-1, 1])\n",
    "ax.set_ylim([-1, 1])\n",
    "\n",
    "\n",
    "plt.tight_layout()\n",
    "sns.despine(trim=True, offset=10)\n",
    "ax.text(1, -1, '$\\\\rho = {:.2f}$'.format(\n",
    "    pd.Series(r_med).corr(pd.Series(l_med))), ha='right', va='bottom', fontsize=12)\n"
   ]
  },
  {
   "cell_type": "code",
   "execution_count": 12,
   "metadata": {},
   "outputs": [],
   "source": [
    "fcc_med = np.median(fccs,0)\n",
    "fcc_med = pd.DataFrame(fcc_med, columns=r_labels, index=r_labels)\n",
    "fcc_med.to_csv('fcc_med-psj.csv')\n"
   ]
  },
  {
   "cell_type": "code",
   "execution_count": null,
   "metadata": {},
   "outputs": [],
   "source": [
    "fccs_hpd = az.hdi(fccs)\n",
    "pd.DataFrame(fccs_hpd, index=r_labels, columns=['lower', 'upper']).to_csv('fcc_hpd-psj.csv')"
   ]
  },
  {
   "cell_type": "code",
   "execution_count": 7,
   "metadata": {},
   "outputs": [],
   "source": [
    "# Ex_values = pd.read_csv('Ex.csv')\n",
    "vn_values = pd.read_csv('vn.csv').to_numpy()[1,1:] # (85,)\n",
    "vn_values[vn_values == 0] = 1e-6\n",
    "en_values = pd.read_csv('en.csv').to_numpy()[1, 1:] # (85,)\n",
    "v_star = pd.read_csv('v_star.csv').to_numpy()[:,1] # (85,)"
   ]
  },
  {
   "cell_type": "code",
   "execution_count": 35,
   "metadata": {},
   "outputs": [],
   "source": [
    "# pseudo-inverse method\n",
    "def calculate_FCCs(ex):\n",
    "    # Calculate the elasticity matrix at the new steady-state\n",
    "    Ex_ss = np.diag(en_values / vn_values) @ ex\n",
    "    Cx = -ll.solve(\n",
    "                    ll.Nr @ np.diag(vn_values * v_star) @ Ex_ss,\n",
    "                    ll.Nr @ np.diag(vn_values * v_star))\n",
    "    Cv = np.eye(ll.nr) + Ex_ss @ Cx\n",
    "    return Cv\n"
   ]
  },
  {
   "cell_type": "code",
   "execution_count": 14,
   "metadata": {},
   "outputs": [
    {
     "name": "stderr",
     "output_type": "stream",
     "text": [
      "c:\\Users\\user\\miniconda3\\envs\\new_Gayles\\lib\\site-packages\\arviz\\data\\base.py:221: UserWarning: More chains (1000) than draws (85). Passed array should have shape (chains, draws, *shape)\n",
      "  warnings.warn(\n"
     ]
    }
   ],
   "source": []
  },
  {
   "cell_type": "code",
   "execution_count": 62,
   "metadata": {},
   "outputs": [
    {
     "name": "stderr",
     "output_type": "stream",
     "text": [
      "c:\\Users\\user\\miniconda3\\envs\\new_Gayles\\lib\\site-packages\\arviz\\data\\base.py:221: UserWarning: More chains (1000) than draws (85). Passed array should have shape (chains, draws, *shape)\n",
      "  warnings.warn(\n"
     ]
    }
   ],
   "source": [
    "fccs = np.array([calculate_FCCs(ex) for ex in Ey_values])   \n",
    "fcc_med = np.median(fccs,0)\n",
    "fcc_med = pd.DataFrame(fcc_med, columns=r_labels, index=r_labels)\n",
    "fcc_med.to_csv('fcc_med.csv')\n",
    "\n",
    "fccs_hpd = az.hdi(fccs)\n",
    "pd.DataFrame(fccs_hpd, index=r_labels, columns=['lower', 'upper']).to_csv('fcc_hpd.csv')"
   ]
  }
 ],
 "metadata": {
  "kernelspec": {
   "display_name": "new_Gayles",
   "language": "python",
   "name": "python3"
  },
  "language_info": {
   "codemirror_mode": {
    "name": "ipython",
    "version": 3
   },
   "file_extension": ".py",
   "mimetype": "text/x-python",
   "name": "python",
   "nbconvert_exporter": "python",
   "pygments_lexer": "ipython3",
   "version": "3.9.13"
  },
  "orig_nbformat": 4
 },
 "nbformat": 4,
 "nbformat_minor": 2
}
