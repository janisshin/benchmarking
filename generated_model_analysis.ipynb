{
 "cells": [
  {
   "attachments": {},
   "cell_type": "markdown",
   "id": "69f5e506",
   "metadata": {},
   "source": [
    "# Analyzing synthetically generated models"
   ]
  },
  {
   "cell_type": "code",
   "execution_count": 2,
   "id": "21c860ac-c1b6-4171-bfde-19b9e7ab1273",
   "metadata": {},
   "outputs": [],
   "source": [
    "import tellurium as te\n",
    "import teUtils as tu\n",
    "import os\n",
    "import csv\n",
    "from tqdm import tqdm"
   ]
  },
  {
   "cell_type": "code",
   "execution_count": 3,
   "id": "2ebf5ec4",
   "metadata": {},
   "outputs": [],
   "source": [
    "FOLDER_NAME = '10sp_10n_A/'\n",
    "DATA_FOLDER = FOLDER_NAME + 'generated_data/'\n",
    "PERTURBATION_LEVELS = [10, 50] # in percent"
   ]
  },
  {
   "attachments": {},
   "cell_type": "markdown",
   "id": "9ce2048d",
   "metadata": {},
   "source": [
    "## Generating perturbation datasets "
   ]
  },
  {
   "cell_type": "code",
   "execution_count": 4,
   "id": "5e6cf719-42ff-42e8-a599-1f979d7180dd",
   "metadata": {},
   "outputs": [],
   "source": [
    "# first create directory to hold the data\n",
    "os.mkdir('./' + DATA_FOLDER)"
   ]
  },
  {
   "cell_type": "code",
   "execution_count": 5,
   "id": "c9ffc974",
   "metadata": {},
   "outputs": [],
   "source": [
    "with open(\"passlist.txt\") as file:\n",
    "    passlist = [line.rstrip() for line in file]"
   ]
  },
  {
   "attachments": {},
   "cell_type": "markdown",
   "id": "f50b379c-555a-4ad0-9e15-1e7b0d1f697b",
   "metadata": {},
   "source": [
    "Develop perturbation datasets for all models within the FOLDER_NAME."
   ]
  },
  {
   "cell_type": "code",
   "execution_count": 8,
   "id": "421ed740-cb77-4c40-b42f-6163d0841fc5",
   "metadata": {},
   "outputs": [
    {
     "name": "stderr",
     "output_type": "stream",
     "text": [
      "28it [00:04,  6.68it/s]\n",
      "28it [00:04,  6.76it/s]\n"
     ]
    }
   ],
   "source": [
    "for pl in PERTURBATION_LEVELS: \n",
    "    for i, modelPath in tqdm(enumerate(os.listdir(FOLDER_NAME + 'sbml/'))):\n",
    "        r = te.loads(FOLDER_NAME + 'sbml/' + modelPath)\n",
    "        \n",
    "        exMet = r.getBoundarySpeciesIds()\n",
    "        inMet = r.getFloatingSpeciesIds()\n",
    "        fluxnums = range(len(r.getReactionRates()))\n",
    "        fluxstr = [str(x) for x in fluxnums] \n",
    "        fluxIDs = ['flux_' + num for num in fluxstr]\n",
    "        e_list = [i for i in r.getGlobalParameterIds() if 'E' in i]\n",
    "        pertLevel = pl/100                \n",
    "\n",
    "        header = e_list + exMet + inMet + fluxIDs        \n",
    "        perturbation_level = [1 - pertLevel, 1 + pertLevel]\n",
    "\n",
    "        with open(DATA_FOLDER+f'{passlist[i]}_pt{pl}.csv', 'w', encoding='UTF8', newline='') as f:\n",
    "            writer = csv.writer(f)\n",
    "            writer.writerow(header)\n",
    "            \n",
    "            try: # base case\n",
    "                spConc = list(r.simulate(0,1000000)[-1])[1:]\n",
    "                r.conservedMoietyAnalysis = True\n",
    "                r.steadyState()\n",
    "                \n",
    "                enzymes = [r.getValue(e) for e in e_list]\n",
    "                exMet_values = [r.getValue(m) for m in exMet]\n",
    "                fluxes = list(r.getReactionRates())\n",
    "                \n",
    "                writer.writerow(enzymes + exMet_values + spConc + fluxes)\n",
    "            \n",
    "                # perturbed cases\n",
    "                for params in e_list:\n",
    "                    for level in perturbation_level:\n",
    "                        # print(params, level) ###################\n",
    "                        r.resetToOrigin()\n",
    "                        r.setValue(params, level*r.getValue(params))\n",
    "                        \n",
    "                        spConc = list(r.simulate(0,1000000)[-1])[1:]\n",
    "                        r.steadyState()\n",
    "                        enzymes = [r.getValue(e) for e in e_list]\n",
    "                        exMet_values = [r.getValue(m) for m in exMet]\n",
    "                        fluxes = list(r.getReactionRates())\n",
    "                        \n",
    "                        writer.writerow(enzymes + exMet_values + spConc + fluxes)\n",
    "            except:\n",
    "                pass #print('error')\n"
   ]
  },
  {
   "attachments": {},
   "cell_type": "markdown",
   "id": "e1e62596",
   "metadata": {},
   "source": [
    "## Plotting analysis of models"
   ]
  },
  {
   "attachments": {},
   "cell_type": "raw",
   "id": "678840b7",
   "metadata": {},
   "source": [
    "\"\"\"r = te.loads(newPath + 'sbml/test_sbml_83.sbml')\n",
    "r.conservedMoietyAnalysis = True\n",
    "r.simulate(0,1000000)\n",
    "tu.plotting.plotFloatingSpecies(r)\n",
    "tu.plotting.plotFluxControlHeatMap(r, annotations=False)\n",
    "tu.plotting.plotReactionRates(r)\n",
    "\"\"\""
   ]
  }
 ],
 "metadata": {
  "kernelspec": {
   "display_name": "new_Gayles",
   "language": "python",
   "name": "python3"
  },
  "language_info": {
   "codemirror_mode": {
    "name": "ipython",
    "version": 3
   },
   "file_extension": ".py",
   "mimetype": "text/x-python",
   "name": "python",
   "nbconvert_exporter": "python",
   "pygments_lexer": "ipython3",
   "version": "3.9.13"
  },
  "vscode": {
   "interpreter": {
    "hash": "30ed1db216cdf9317538783ca24b3cd4ee1c9ce76cd6af87f2b4dcb8ac1b0735"
   }
  }
 },
 "nbformat": 4,
 "nbformat_minor": 5
}
