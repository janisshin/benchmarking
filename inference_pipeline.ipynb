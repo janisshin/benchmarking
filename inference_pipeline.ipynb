{
 "cells": [
  {
   "attachments": {},
   "cell_type": "markdown",
   "metadata": {},
   "source": [
    "## Bayesian estimation of enzyme elasticities for an in vitro pathway\n",
    "\n",
    "This notebook is derived from Wu2004.ipynb. \n",
    "Wu2004.ipynb uses a model and data from C. Giersch, European Journal of Biochemistry. 227, 194–201 (1995). \n",
    "However, instead of running just one model, this notebook will run analysis for a batch of models. \n"
   ]
  },
  {
   "cell_type": "code",
   "execution_count": 1,
   "metadata": {},
   "outputs": [
    {
     "name": "stderr",
     "output_type": "stream",
     "text": [
      "WARNING (aesara.configdefaults): g++ not available, if using conda: `conda install m2w64-toolchain`\n",
      "WARNING (aesara.configdefaults): g++ not detected!  Aesara will be unable to compile C-implementations and will default to Python. Performance may be severely degraded. To remove this warning, set Aesara flags cxx to an empty string.\n",
      "WARNING (aesara.tensor.blas): Using NumPy C-API based implementation for BLAS functions.\n"
     ]
    }
   ],
   "source": [
    "# handy-dandy\n",
    "import os\n",
    "import sys\n",
    "import re\n",
    "from tqdm import tqdm\n",
    "import warnings\n",
    "# warnings.filterwarnings(\"error\")\n",
    "# warnings.resetwarnings()\n",
    "warnings.filterwarnings('ignore')\n",
    "\n",
    "# arrays/dataframes\n",
    "import numpy as np\n",
    "np.random.seed(0)\n",
    "np.set_printoptions(threshold=sys.maxsize)\n",
    "\n",
    "import pandas as pd\n",
    "pd.set_option('display.max_columns', None)\n",
    "pd.set_option('display.max_rows', None)\n",
    "\n",
    "from csv import writer\n",
    "\n",
    "# math/stats\n",
    "import scipy\n",
    "import scipy.stats\n",
    "import pymc as pm\n",
    "import aesara\n",
    "import arviz as az\n",
    "\n",
    "# biochemical pathway simulators\n",
    "import cobra\n",
    "import tellurium as te\n",
    "\n",
    "# plotting\n",
    "import matplotlib.pyplot as plt\n",
    "import seaborn as sns\n",
    "sns.set(context='talk', style='ticks',\n",
    "        color_codes=True, rc={'legend.frameon': False})\n",
    "\n",
    "# linlog Bayesian Metabolic Control Analysis\n",
    "import emll\n",
    "from emll.util import initialize_elasticity"
   ]
  },
  {
   "cell_type": "code",
   "execution_count": 2,
   "metadata": {},
   "outputs": [],
   "source": [
    "import inference_utils as bi\n",
    "# ba.testImport()\n",
    "FOLDER_NAME = '10sp_w-Allo/'\n",
    "\n",
    "with open(FOLDER_NAME + \"passlist.txt\") as file:\n",
    "    passlist = [line.rstrip() for line in file]\n",
    "\n",
    "DATA_OMISSION_CODE = 'A'\n",
    "ADVI_ITERATIONS = 60000 # 30000\n",
    "\n",
    "passN = 1 # what position is the passNumber? e.g. 1 for \"data_24_pt10.csv or 2 for \"mass_action_152.xml\" "
   ]
  },
  {
   "cell_type": "code",
   "execution_count": null,
   "metadata": {},
   "outputs": [],
   "source": [
    "# make results folders \n",
    "results_dir = './' + FOLDER_NAME + 'results/'\n",
    "try: \n",
    "    os.mkdir(results_dir)\n",
    "    os.mkdir(results_dir + 'convergence/')\n",
    "    os.mkdir(results_dir + 'elast-hdi/')\n",
    "    os.mkdir(results_dir + 'elast-plot/')\n",
    "    os.mkdir(results_dir + 'FCC-hdi/')\n",
    "    os.mkdir(results_dir + 'FCC-graph/')\n",
    "    os.mkdir(results_dir + 'MCC-hdi/')\n",
    "    os.mkdir(results_dir + 'MCC-graph/')\n",
    "except:\n",
    "    pass"
   ]
  },
  {
   "cell_type": "code",
   "execution_count": null,
   "metadata": {},
   "outputs": [],
   "source": [
    "for dataPath in os.listdir(FOLDER_NAME + 'generated_data/'):\n",
    "    modelNo = re.split(r'[_|.]', dataPath)[passN]\n",
    "    path = f'mass_action_{modelNo}.ant'\n",
    "    \n",
    "    try:\n",
    "        bi.run_analysis(path, dataPath, itr=ADVI_ITERATIONS, folder_name=FOLDER_NAME)        \n",
    "    except: \n",
    "        with open(\"failed10.log\", \"a\") as f:\n",
    "            f.write(dataPath + '\\n')\n",
    "    "
   ]
  },
  {
   "cell_type": "code",
   "execution_count": null,
   "metadata": {},
   "outputs": [],
   "source": []
  },
  {
   "cell_type": "code",
   "execution_count": 3,
   "metadata": {},
   "outputs": [],
   "source": [
    "path = 'mass_action_3364.ant'\n",
    "dataPath = 'data_3364_pt10_n10.csv'\n",
    "folder_name = FOLDER_NAME\n",
    "itr = ADVI_ITERATIONS"
   ]
  },
  {
   "cell_type": "code",
   "execution_count": 5,
   "metadata": {},
   "outputs": [
    {
     "name": "stderr",
     "output_type": "stream",
     "text": [
      "Model does not contain SBML fbc package information.\n",
      "Missing lower flux bound set to '-1000.0' for reaction: '<Reaction J0>'\n",
      "Missing upper flux bound set to '1000.0' for reaction: '<Reaction J0>'\n",
      "Missing lower flux bound set to '-1000.0' for reaction: '<Reaction J1>'\n",
      "Missing upper flux bound set to '1000.0' for reaction: '<Reaction J1>'\n",
      "Missing lower flux bound set to '-1000.0' for reaction: '<Reaction J2>'\n",
      "Missing upper flux bound set to '1000.0' for reaction: '<Reaction J2>'\n",
      "Missing lower flux bound set to '-1000.0' for reaction: '<Reaction J3>'\n",
      "Missing upper flux bound set to '1000.0' for reaction: '<Reaction J3>'\n",
      "Missing lower flux bound set to '-1000.0' for reaction: '<Reaction J4>'\n",
      "Missing upper flux bound set to '1000.0' for reaction: '<Reaction J4>'\n",
      "Missing lower flux bound set to '-1000.0' for reaction: '<Reaction J5>'\n",
      "Missing upper flux bound set to '1000.0' for reaction: '<Reaction J5>'\n",
      "Missing lower flux bound set to '-1000.0' for reaction: '<Reaction J6>'\n",
      "Missing upper flux bound set to '1000.0' for reaction: '<Reaction J6>'\n",
      "Missing lower flux bound set to '-1000.0' for reaction: '<Reaction J7>'\n",
      "Missing upper flux bound set to '1000.0' for reaction: '<Reaction J7>'\n",
      "Missing lower flux bound set to '-1000.0' for reaction: '<Reaction J8>'\n",
      "Missing upper flux bound set to '1000.0' for reaction: '<Reaction J8>'\n",
      "Missing lower flux bound set to '-1000.0' for reaction: '<Reaction EX_S9>'\n",
      "Missing upper flux bound set to '1000.0' for reaction: '<Reaction EX_S9>'\n",
      "Missing lower flux bound set to '-1000.0' for reaction: '<Reaction EX_S2>'\n",
      "Missing lower flux bound set to '-1000.0' for reaction: '<Reaction J0>'\n",
      "Missing upper flux bound set to '1000.0' for reaction: '<Reaction J0>'\n",
      "Missing lower flux bound set to '-1000.0' for reaction: '<Reaction J1>'\n",
      "Missing upper flux bound set to '1000.0' for reaction: '<Reaction J1>'\n",
      "Missing lower flux bound set to '-1000.0' for reaction: '<Reaction J2>'\n",
      "Missing upper flux bound set to '1000.0' for reaction: '<Reaction J2>'\n",
      "Missing lower flux bound set to '-1000.0' for reaction: '<Reaction J3>'\n",
      "Missing upper flux bound set to '1000.0' for reaction: '<Reaction J3>'\n",
      "Missing lower flux bound set to '-1000.0' for reaction: '<Reaction J4>'\n",
      "Missing upper flux bound set to '1000.0' for reaction: '<Reaction J4>'\n",
      "Missing lower flux bound set to '-1000.0' for reaction: '<Reaction J5>'\n",
      "Missing upper flux bound set to '1000.0' for reaction: '<Reaction J5>'\n",
      "Missing lower flux bound set to '-1000.0' for reaction: '<Reaction J6>'\n",
      "Missing upper flux bound set to '1000.0' for reaction: '<Reaction J6>'\n",
      "Missing lower flux bound set to '-1000.0' for reaction: '<Reaction J7>'\n",
      "Missing upper flux bound set to '1000.0' for reaction: '<Reaction J7>'\n",
      "Missing lower flux bound set to '-1000.0' for reaction: '<Reaction J8>'\n",
      "Missing upper flux bound set to '1000.0' for reaction: '<Reaction J8>'\n",
      "Missing lower flux bound set to '-1000.0' for reaction: '<Reaction EX_S9>'\n",
      "Missing upper flux bound set to '1000.0' for reaction: '<Reaction EX_S9>'\n",
      "Missing lower flux bound set to '-1000.0' for reaction: '<Reaction EX_S2>'\n",
      "Missing upper flux bound set to '1000.0' for reaction: '<Reaction EX_S2>'\n",
      "Missing lower flux bound set to '-1000.0' for reaction: '<Reaction EX_S3>'\n",
      "Missing upper flux bound set to '1000.0' for reaction: '<Reaction EX_S3>'\n",
      "No objective coefficients in model. Unclear what should be optimized\n",
      "Missing flux bounds on reactions set to default bounds.As best practise and to avoid confusion flux bounds should be set explicitly on all reactions.\n",
      "Sampling: [chi_obs, e_error, e_obs, ex_capacity_entries, ex_kinetic_entries, ey_capacity_entries, ey_kinetic_entries, v_error, v_hat_obs, x_error, y_error, y_obs]\n"
     ]
    }
   ],
   "source": [
    "bi.run_analysis(path, dataPath, itr=ADVI_ITERATIONS, folder_name=FOLDER_NAME, noise=True)        "
   ]
  },
  {
   "cell_type": "code",
   "execution_count": null,
   "metadata": {},
   "outputs": [],
   "source": []
  }
 ],
 "metadata": {
  "anaconda-cloud": {},
  "kernelspec": {
   "display_name": "new_Gayles",
   "language": "python",
   "name": "python3"
  },
  "language_info": {
   "codemirror_mode": {
    "name": "ipython",
    "version": 3
   },
   "file_extension": ".py",
   "mimetype": "text/x-python",
   "name": "python",
   "nbconvert_exporter": "python",
   "pygments_lexer": "ipython3",
   "version": "3.9.13"
  },
  "vscode": {
   "interpreter": {
    "hash": "30ed1db216cdf9317538783ca24b3cd4ee1c9ce76cd6af87f2b4dcb8ac1b0735"
   }
  }
 },
 "nbformat": 4,
 "nbformat_minor": 4
}
