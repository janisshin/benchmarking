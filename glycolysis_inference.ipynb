{
 "cells": [
  {
   "cell_type": "code",
   "execution_count": 1,
   "metadata": {},
   "outputs": [],
   "source": [
    "dataPath='MODEL1303260011_pt10.csv'\n",
    "\n",
    "FOLDER_NAME = 'glycolysis/'\n",
    "NOISE=False\n",
    "DATA_OMISSION_CODE = 'A'\n",
    "ADVI_ITERATIONS = 100000 # 60000\n",
    "FAIL_LOG_FILE = f'failed-{DATA_OMISSION_CODE}.log'\n",
    "DATA_FOLDER_NAME = 'generated_data/'\n"
   ]
  },
  {
   "cell_type": "code",
   "execution_count": 2,
   "metadata": {},
   "outputs": [
    {
     "name": "stderr",
     "output_type": "stream",
     "text": [
      "WARNING (aesara.configdefaults): g++ not available, if using conda: `conda install m2w64-toolchain`\n",
      "WARNING (aesara.configdefaults): g++ not detected!  Aesara will be unable to compile C-implementations and will default to Python. Performance may be severely degraded. To remove this warning, set Aesara flags cxx to an empty string.\n",
      "WARNING (aesara.tensor.blas): Using NumPy C-API based implementation for BLAS functions.\n"
     ]
    }
   ],
   "source": [
    "# handy-dandy\n",
    "import os\n",
    "import sys\n",
    "from tqdm import tqdm\n",
    "\n",
    "# arrays/dataframes\n",
    "import numpy as np\n",
    "np.random.seed(0)\n",
    "np.set_printoptions(threshold=sys.maxsize)\n",
    "\n",
    "import pandas as pd\n",
    "pd.set_option('display.max_columns', None)\n",
    "pd.set_option('display.max_rows', None)\n",
    "\n",
    "from csv import writer\n",
    "\n",
    "# math/stats\n",
    "import scipy\n",
    "import scipy.stats\n",
    "import pymc as pm\n",
    "import aesara\n",
    "\n",
    "# biochemical pathway simulators\n",
    "import cobra\n",
    "import tellurium as te\n",
    "\n",
    "# plotting\n",
    "import matplotlib.pyplot as plt\n",
    "import seaborn as sns\n",
    "sns.set(context='talk', style='ticks',\n",
    "        color_codes=True, rc={'legend.frameon': False})\n",
    "import arviz as az\n",
    "\n",
    "import cloudpickle\n",
    "\n",
    "# linlog Bayesian Metabolic Control Analysis\n",
    "import emll\n",
    "from emll.util import initialize_elasticity"
   ]
  },
  {
   "cell_type": "code",
   "execution_count": 3,
   "metadata": {},
   "outputs": [],
   "source": [
    "itr = ADVI_ITERATIONS\n",
    "folder_name = FOLDER_NAME"
   ]
  },
  {
   "cell_type": "code",
   "execution_count": 4,
   "metadata": {},
   "outputs": [
    {
     "name": "stderr",
     "output_type": "stream",
     "text": [
      "Model does not contain SBML fbc package information.\n"
     ]
    },
    {
     "name": "stdout",
     "output_type": "stream",
     "text": [
      "Set parameter Username\n",
      "Academic license - for non-commercial use only - expires 2023-10-19\n"
     ]
    },
    {
     "name": "stderr",
     "output_type": "stream",
     "text": [
      "http://www.geneontology.org/GO:0006096 does not conform to 'http(s)://identifiers.org/collection/id' or'http(s)://identifiers.org/COLLECTION:id\n",
      "Missing lower flux bound set to '-1000.0' for reaction: '<Reaction EX_ADH \"alcohol dehydrogenase\">'\n",
      "Missing upper flux bound set to '1000.0' for reaction: '<Reaction EX_ADH \"alcohol dehydrogenase\">'\n",
      "Missing lower flux bound set to '-1000.0' for reaction: '<Reaction EX_AK \"adenylate kinase\">'\n",
      "Missing upper flux bound set to '1000.0' for reaction: '<Reaction EX_AK \"adenylate kinase\">'\n",
      "Missing lower flux bound set to '-1000.0' for reaction: '<Reaction ATPase>'\n",
      "Missing upper flux bound set to '1000.0' for reaction: '<Reaction ATPase>'\n",
      "Missing lower flux bound set to '-1000.0' for reaction: '<Reaction ENO \"enolase\">'\n",
      "Missing upper flux bound set to '1000.0' for reaction: '<Reaction ENO \"enolase\">'\n",
      "Missing lower flux bound set to '-1000.0' for reaction: '<Reaction FBA \"fructosebisphosphate aldolase\">'\n",
      "Missing upper flux bound set to '1000.0' for reaction: '<Reaction FBA \"fructosebisphosphate aldolase\">'\n",
      "Missing lower flux bound set to '-1000.0' for reaction: '<Reaction EX_GPD \"glycerol 3-phosphate dehydrogenase\">'\n",
      "Missing upper flux bound set to '1000.0' for reaction: '<Reaction EX_GPD \"glycerol 3-phosphate dehydrogenase\">'\n",
      "Missing lower flux bound set to '-1000.0' for reaction: '<Reaction GPM \"phosphoglyceromutase\">'\n",
      "Missing upper flux bound set to '1000.0' for reaction: '<Reaction GPM \"phosphoglyceromutase\">'\n",
      "Missing lower flux bound set to '-1000.0' for reaction: '<Reaction EX_GPP \"glycerol 3-phosphatase\">'\n",
      "Missing upper flux bound set to '1000.0' for reaction: '<Reaction EX_GPP \"glycerol 3-phosphatase\">'\n",
      "Missing lower flux bound set to '-1000.0' for reaction: '<Reaction HXK_GLK1 \"hexokinase [GLK1]\">'\n",
      "Missing upper flux bound set to '1000.0' for reaction: '<Reaction HXK_GLK1 \"hexokinase [GLK1]\">'\n",
      "Missing lower flux bound set to '-1000.0' for reaction: '<Reaction HXK_HXK1 \"hexokinase [HXK1]\">'\n",
      "Missing upper flux bound set to '1000.0' for reaction: '<Reaction HXK_HXK1 \"hexokinase [HXK1]\">'\n",
      "Missing lower flux bound set to '-1000.0' for reaction: '<Reaction HXK_HXK2 \"hexokinase [HXK2]\">'\n",
      "Missing upper flux bound set to '1000.0' for reaction: '<Reaction HXK_HXK2 \"hexokinase [HXK2]\">'\n",
      "Missing lower flux bound set to '-1000.0' for reaction: '<Reaction PDC_PDC1 \"pyruvate decarboxylase [PDC1]\">'\n",
      "Missing upper flux bound set to '1000.0' for reaction: '<Reaction PDC_PDC1 \"pyruvate decarboxylase [PDC1]\">'\n",
      "Missing lower flux bound set to '-1000.0' for reaction: '<Reaction PDC_PDC5 \"pyruvate decarboxylase [PDC5]\">'\n",
      "Missing upper flux bound set to '1000.0' for reaction: '<Reaction PDC_PDC5 \"pyruvate decarboxylase [PDC5]\">'\n",
      "Missing lower flux bound set to '-1000.0' for reaction: '<Reaction PDC_PDC6 \"pyruvate decarboxylase [PDC6]\">'\n",
      "Missing upper flux bound set to '1000.0' for reaction: '<Reaction PDC_PDC6 \"pyruvate decarboxylase [PDC6]\">'\n",
      "Missing lower flux bound set to '-1000.0' for reaction: '<Reaction PFK \"phosphofructokinase\">'\n",
      "Missing upper flux bound set to '1000.0' for reaction: '<Reaction PFK \"phosphofructokinase\">'\n",
      "Missing lower flux bound set to '-1000.0' for reaction: '<Reaction PGI \"phosphoglucose isomerase\">'\n",
      "Missing upper flux bound set to '1000.0' for reaction: '<Reaction PGI \"phosphoglucose isomerase\">'\n",
      "Missing lower flux bound set to '-1000.0' for reaction: '<Reaction PGK \"3-phosphoglycerate kinase\">'\n",
      "Missing upper flux bound set to '1000.0' for reaction: '<Reaction PGK \"3-phosphoglycerate kinase\">'\n",
      "Missing lower flux bound set to '-1000.0' for reaction: '<Reaction PGM \"phosphoglucomutase\">'\n",
      "Missing upper flux bound set to '1000.0' for reaction: '<Reaction PGM \"phosphoglucomutase\">'\n",
      "Missing lower flux bound set to '-1000.0' for reaction: '<Reaction PYK \"pyruvate kinase\">'\n",
      "Missing upper flux bound set to '1000.0' for reaction: '<Reaction PYK \"pyruvate kinase\">'\n",
      "Missing lower flux bound set to '-1000.0' for reaction: '<Reaction EX_TDH_TDH1 \"glyceraldehyde phosphate dehydrogenase [TDH1]\">'\n",
      "Missing upper flux bound set to '1000.0' for reaction: '<Reaction EX_TDH_TDH1 \"glyceraldehyde phosphate dehydrogenase [TDH1]\">'\n",
      "Missing lower flux bound set to '-1000.0' for reaction: '<Reaction EX_TDH_TDH2 \"glyceraldehyde phosphate dehydrogenase [TDH2]\">'\n",
      "Missing upper flux bound set to '1000.0' for reaction: '<Reaction EX_TDH_TDH2 \"glyceraldehyde phosphate dehydrogenase [TDH2]\">'\n",
      "Missing lower flux bound set to '-1000.0' for reaction: '<Reaction EX_TDH_TDH3 \"glyceraldehyde phosphate dehydrogenase [TDH3]\">'\n",
      "Missing upper flux bound set to '1000.0' for reaction: '<Reaction EX_TDH_TDH3 \"glyceraldehyde phosphate dehydrogenase [TDH3]\">'\n",
      "Missing lower flux bound set to '-1000.0' for reaction: '<Reaction TPI \"triosephosphate isomerase\">'\n",
      "Missing upper flux bound set to '1000.0' for reaction: '<Reaction TPI \"triosephosphate isomerase\">'\n",
      "Missing lower flux bound set to '-1000.0' for reaction: '<Reaction EX_TPP \"T6P phosphatase\">'\n",
      "Missing upper flux bound set to '1000.0' for reaction: '<Reaction EX_TPP \"T6P phosphatase\">'\n",
      "Missing lower flux bound set to '-1000.0' for reaction: '<Reaction EX_TPS \"T6P synthase\">'\n",
      "Missing upper flux bound set to '1000.0' for reaction: '<Reaction EX_TPS \"T6P synthase\">'\n",
      "Missing lower flux bound set to '-1000.0' for reaction: '<Reaction EX_UGP \"UDP glucose phosphorylase\">'\n",
      "Missing upper flux bound set to '1000.0' for reaction: '<Reaction EX_UGP \"UDP glucose phosphorylase\">'\n",
      "Missing lower flux bound set to '-1000.0' for reaction: '<Reaction EX_acetate_branch \"acetate branch\">'\n",
      "Missing upper flux bound set to '1000.0' for reaction: '<Reaction EX_acetate_branch \"acetate branch\">'\n",
      "Missing lower flux bound set to '-1000.0' for reaction: '<Reaction EX_succinate_branch \"succinate branch\">'\n",
      "Missing upper flux bound set to '1000.0' for reaction: '<Reaction EX_succinate_branch \"succinate branch\">'\n",
      "Missing lower flux bound set to '-1000.0' for reaction: '<Reaction udp_to_utp \"UDP to UTP pseudoreaction\">'\n",
      "Missing upper flux bound set to '1000.0' for reaction: '<Reaction udp_to_utp \"UDP to UTP pseudoreaction\">'\n",
      "Missing lower flux bound set to '-1000.0' for reaction: '<Reaction EX_HXT \"glucose transport\">'\n",
      "Missing upper flux bound set to '1000.0' for reaction: '<Reaction EX_HXT \"glucose transport\">'\n",
      "No objective coefficients in model. Unclear what should be optimized\n",
      "Missing flux bounds on reactions set to default bounds.As best practise and to avoid confusion flux bounds should be set explicitly on all reactions.\n"
     ]
    }
   ],
   "source": [
    "r = te.loada(\"MODEL1303260011.ant\")\n",
    "s = te.loada(\"MODEL1303260011_cobra.ant\")\n",
    "with open(\"temp.txt\", \"w\") as f:\n",
    "    f.write(s.getSBML())\n",
    "\n",
    "model = cobra.io.read_sbml_model(\"temp.txt\")\n",
    "os.remove(\"temp.txt\") \n",
    "\n",
    "data = pd.read_csv(dataPath).astype(float)\n",
    "\n",
    "N = r.getFullStoichiometryMatrix()\n",
    "nm, nr = N.shape\n",
    "\n",
    "n_exp = len(data)   \n",
    "\n",
    "e_cols = [col for col in data.columns if 'ENZYME' in col]\n",
    "x_cols = r.getFloatingSpeciesIds()    \n",
    "exclude = ['AMP', 'NADH', 'UDG']\n",
    "y_cols = [y for y in r.getBoundarySpeciesIds() if y not in exclude]\n",
    "v_cols = r.getReactionIds()\n",
    "\n",
    "e = data[e_cols]\n",
    "x = data[x_cols]\n",
    "y = data[y_cols]\n",
    "v = data[v_cols]"
   ]
  },
  {
   "cell_type": "code",
   "execution_count": 5,
   "metadata": {},
   "outputs": [],
   "source": [
    "# the reference index is the strain that produces the most of a \n",
    "# desired product here, we arbitrarily choose a random species as \n",
    "# our desired product\n",
    "# target_rxn_i = -1\n",
    "desired_product = 'succinate_branch' # y_cols[target_rxn_i] # the boundary form of the desired product\n",
    "# the strain index at which the level of desired product is highest\n",
    "ref_ind = data.idxmax()['EX_' + desired_product] \n",
    "# list of boundary reactions\n",
    "exRxns = [i.id for i in model.reactions if 'EX' in i.id] \n",
    "# boundary reaction that produces desired product\n",
    "target_rxn = [i for i in exRxns if desired_product == i[3:]][0]\n",
    "desired_product = target_rxn[3:] # the internal form of the desired product"
   ]
  },
  {
   "cell_type": "code",
   "execution_count": 6,
   "metadata": {},
   "outputs": [
    {
     "name": "stderr",
     "output_type": "stream",
     "text": [
      "C:\\Users\\user\\AppData\\Local\\Temp\\ipykernel_15552\\676981091.py:9: SettingWithCopyWarning:\n",
      "\n",
      "\n",
      "A value is trying to be set on a copy of a slice from a DataFrame.\n",
      "Try using .loc[row_indexer,col_indexer] = value instead\n",
      "\n",
      "See the caveats in the documentation: https://pandas.pydata.org/pandas-docs/stable/user_guide/indexing.html#returning-a-view-versus-a-copy\n",
      "\n",
      "C:\\Users\\user\\AppData\\Local\\Temp\\ipykernel_15552\\676981091.py:9: SettingWithCopyWarning:\n",
      "\n",
      "\n",
      "A value is trying to be set on a copy of a slice from a DataFrame\n",
      "\n",
      "See the caveats in the documentation: https://pandas.pydata.org/pandas-docs/stable/user_guide/indexing.html#returning-a-view-versus-a-copy\n",
      "\n"
     ]
    }
   ],
   "source": [
    "e_star = e.iloc[ref_ind].values\n",
    "x_star = x.iloc[ref_ind].values\n",
    "y_star = y.iloc[ref_ind].values\n",
    "v_star = v.iloc[ref_ind].values\n",
    "\n",
    "e_star[e_star == 0] = 1e-6\n",
    "v_star[v_star == 0] = 1e-9\n",
    "y_star[y_star == 0] = 1e-6\n",
    "y[y <= 0] = 1e-6\n",
    "\n",
    "assert (len(e.values[e.values <= 0]) == 0)\n",
    "assert (len(y.values[y.values <= 0]) == 0)\n",
    "assert (len(e_star[e_star <= 0]) == 0)\n",
    "assert (len(y_star[y_star <= 0]) == 0)"
   ]
  },
  {
   "cell_type": "code",
   "execution_count": 7,
   "metadata": {},
   "outputs": [],
   "source": [
    "# Normalize to reference values (and drop trivial measurement)\n",
    "en = e.divide(e_star)\n",
    "xn = x.divide(x_star)\n",
    "yn = y.divide(y_star)\n",
    "vn = v.divide(v_star)\n",
    "\n",
    "# get rid of any 0 values\n",
    "vn[vn <= 0] = 1e-6 # need to drop Nan values\n",
    "en[en <= 0] = 1e-6\n",
    "yn[yn <= 0] = 1e-6\n",
    "\n",
    "en = en.drop(ref_ind)\n",
    "xn = xn.drop(ref_ind)\n",
    "yn = yn.drop(ref_ind)\n",
    "vn = vn.drop(ref_ind)      \n",
    "\n",
    "# Correct negative flux values at the reference state\n",
    "N[:, v_star < 0] = -1 * N[:, v_star < 0]\n",
    "v_star = np.abs(v_star)\n",
    "\n",
    "# Correct all 0 fluxes. Cannot divide nor take log of 0\n",
    "v_star[v_star == 0] = 1e-9"
   ]
  },
  {
   "cell_type": "code",
   "execution_count": 8,
   "metadata": {},
   "outputs": [],
   "source": [
    "Ex = emll.create_elasticity_matrix(model)\n",
    "Ey = np.zeros((nr, len(y_cols))) # (reactions, number of external species)"
   ]
  },
  {
   "cell_type": "code",
   "execution_count": 9,
   "metadata": {},
   "outputs": [],
   "source": [
    "# external species reaction indices\n",
    "# aka what is the index of external species reactions?\n",
    "exSp = [model.reactions.index(i.id) for i in model.reactions if 'EX' in i.id]\n",
    "for i in range(len(exSp)): \n",
    "    Ey[int(exSp[i]), i] = 1"
   ]
  },
  {
   "cell_type": "code",
   "execution_count": 10,
   "metadata": {},
   "outputs": [
    {
     "name": "stderr",
     "output_type": "stream",
     "text": [
      "c:\\Users\\user\\Documents\\research\\benchmarking\\emll\\linlog_model.py:65: UserWarning:\n",
      "\n",
      "v_star contains zero entries, this will cause problems\n",
      "\n"
     ]
    }
   ],
   "source": [
    "ll = emll.LinLogLeastNorm(N, Ex, Ey, v_star)"
   ]
  },
  {
   "cell_type": "code",
   "execution_count": 11,
   "metadata": {},
   "outputs": [],
   "source": [
    "### creating the probability model\n",
    "with pm.Model() as pymc_model:\n",
    "    \n",
    "    # Initialize elasticities\n",
    "    Ex_t = pm.Deterministic('Ex', initialize_elasticity(N, 'ex', b=0.05, sd=1, alpha=5))\n",
    "    Ey_t = pm.Deterministic('Ey', initialize_elasticity(-Ey.T, 'ey', b=0.05, sd=1, alpha=5))\n",
    "\n",
    "with pymc_model:\n",
    "    # Error priors. \n",
    "    y_err = pm.HalfNormal('y_error', sigma=0.05, initval=.01)\n",
    "\n",
    "    # Calculate steady-state concentrations and fluxes from elasticities\n",
    "    chi_ss, vn_ss_x = ll.steady_state_aesara(Ex_t, Ey_t, en.to_numpy(), yn.to_numpy())\n",
    "    y_ss, vn_ss_y = ll.steady_state_aesara(Ey_t, Ex_t, en.to_numpy(), xn.to_numpy())\n",
    "\n",
    "    # Error distributions for observed steady-state concentrations and fluxes\n",
    "    \n",
    "    v_hat_obs = pm.Normal('v_hat_obs', mu=vn_ss_x, sigma=0.1, observed=vn) # both bn and v_hat_ss are (28,6)\n",
    "    chi_obs = pm.Normal('chi_obs', mu=chi_ss, sigma=0.1, observed=xn) # chi_ss and xn is (28,4)\n",
    "    y_obs = pm.Normal('y_obs', mu=y_ss, sigma=y_err, observed=yn)\n",
    "    # e_obs = pm.Normal('e_obs', mu=1, sigma=0.1, observed=en)\n"
   ]
  },
  {
   "cell_type": "code",
   "execution_count": 12,
   "metadata": {},
   "outputs": [
    {
     "name": "stderr",
     "output_type": "stream",
     "text": [
      "Sampling: [chi_obs, ex_capacity_entries, ex_kinetic_entries, ey_capacity_entries, ey_kinetic_entries, v_hat_obs, y_error, y_obs]\n"
     ]
    }
   ],
   "source": [
    "with pymc_model:\n",
    "    trace_prior = pm.sample_prior_predictive() "
   ]
  },
  {
   "cell_type": "code",
   "execution_count": 13,
   "metadata": {},
   "outputs": [
    {
     "data": {
      "text/html": [
       "\n",
       "<style>\n",
       "    /* Turns off some styling */\n",
       "    progress {\n",
       "        /* gets rid of default border in Firefox and Opera. */\n",
       "        border: none;\n",
       "        /* Needs to be in here for Safari polyfill so background images work as expected. */\n",
       "        background-size: auto;\n",
       "    }\n",
       "    progress:not([value]), progress:not([value])::-webkit-progress-bar {\n",
       "        background: repeating-linear-gradient(45deg, #7e7e7e, #7e7e7e 10px, #5c5c5c 10px, #5c5c5c 20px);\n",
       "    }\n",
       "    .progress-bar-interrupted, .progress-bar-interrupted::-webkit-progress-bar {\n",
       "        background: #F44336;\n",
       "    }\n",
       "</style>\n"
      ],
      "text/plain": [
       "<IPython.core.display.HTML object>"
      ]
     },
     "metadata": {},
     "output_type": "display_data"
    },
    {
     "data": {
      "text/html": [
       "\n",
       "    <div>\n",
       "      <progress value='100000' class='' max='100000' style='width:300px; height:20px; vertical-align: middle;'></progress>\n",
       "      100.00% [100000/100000 18:31:33&lt;00:00 Average Loss = 31,995]\n",
       "    </div>\n",
       "    "
      ],
      "text/plain": [
       "<IPython.core.display.HTML object>"
      ]
     },
     "metadata": {},
     "output_type": "display_data"
    },
    {
     "name": "stderr",
     "output_type": "stream",
     "text": [
      "c:\\Users\\user\\miniconda3\\envs\\new_Gayles\\lib\\site-packages\\aesara\\scalar\\basic.py:2925: RuntimeWarning:\n",
      "\n",
      "invalid value encountered in log\n",
      "\n",
      "Finished [100%]: Average Loss = 31,992\n"
     ]
    }
   ],
   "source": [
    "# sampling\n",
    "with pymc_model:\n",
    "    approx = pm.ADVI()\n",
    "    hist = approx.fit(n=itr, obj_optimizer=pm.adagrad_window(learning_rate=5E-3), obj_n_mc=1)"
   ]
  },
  {
   "cell_type": "code",
   "execution_count": null,
   "metadata": {},
   "outputs": [],
   "source": [
    "with pymc_model:\n",
    "    trace = hist.sample(1000)    \n",
    "    ppc_vi = pm.sample_posterior_predictive(trace, random_seed=1)"
   ]
  },
  {
   "cell_type": "code",
   "execution_count": null,
   "metadata": {},
   "outputs": [],
   "source": [
    "# label\n",
    "m_labels = [m.id for m in model.metabolites]\n",
    "r_labels = [r.id for r in model.reactions]\n",
    "y_labels = y_cols\n",
    "\n",
    "ex_labels = np.array([['$\\epsilon_{' + '{0},{1}'.format(rlabel, mlabel) + '}$'\n",
    "                    for mlabel in m_labels] for rlabel in r_labels]).flatten()\n",
    "ey_labels = np.array([['$\\epsilon_{' + '{0},{1}'.format(rlabel, mlabel) + '}$'\n",
    "                    for mlabel in y_labels] for rlabel in r_labels]).flatten()\n",
    "\n",
    "e_labels = np.hstack((ex_labels, ey_labels))\n",
    "\n",
    "# generating and storing results\n",
    "dataset_name = dataPath.split(\".\")[0]\n",
    "\n"
   ]
  },
  {
   "cell_type": "code",
   "execution_count": null,
   "metadata": {},
   "outputs": [],
   "source": [
    "cloudpickle.dump({'advi': approx,\n",
    "'approx': approx,\n",
    "'trace': trace,\n",
    "'trace_prior': trace_prior,\n",
    "'e_labels': e_labels,\n",
    "'r_labels': r_labels,\n",
    "'m_labels': m_labels,\n",
    "'ll': ll}, file=open(f'folder_name + {dataset_name}_advi.pgz', \"wb\"))\n",
    "\n"
   ]
  }
 ],
 "metadata": {
  "kernelspec": {
   "display_name": "new_Gayles",
   "language": "python",
   "name": "python3"
  },
  "language_info": {
   "codemirror_mode": {
    "name": "ipython",
    "version": 3
   },
   "file_extension": ".py",
   "mimetype": "text/x-python",
   "name": "python",
   "nbconvert_exporter": "python",
   "pygments_lexer": "ipython3",
   "version": "3.9.13"
  },
  "orig_nbformat": 4
 },
 "nbformat": 4,
 "nbformat_minor": 2
}
